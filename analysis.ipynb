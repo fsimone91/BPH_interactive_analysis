{
 "cells": [
  {
   "cell_type": "markdown",
   "id": "aa9c56fe-beab-4acf-8c0c-f8e6351379f2",
   "metadata": {},
   "source": [
    "Flavor physics analysis looking for decays of D or B mesons. In this example we run the reconstruction of Ds->phi(mumu)pi decays, looking for two collimated muons and a charged track originating from a common vertex. The analysis is performed on ntuples produced running on CMS data in the MINIAOD format."
   ]
  },
  {
   "cell_type": "markdown",
   "id": "0c07bc5f-e85f-4aeb-be42-e44946b9e6e2",
   "metadata": {},
   "source": [
    "# Basic imports"
   ]
  },
  {
   "cell_type": "code",
   "execution_count": null,
   "id": "38baabf2-e789-4dc5-8b6b-c04034895d01",
   "metadata": {},
   "outputs": [],
   "source": [
    "import sys, os, time\n",
    "start = time.time()\n",
    "import json\n",
    "import ROOT\n",
    "from ROOT import * "
   ]
  },
  {
   "cell_type": "markdown",
   "id": "0c5ce488-fcda-43d3-b8ae-51f1a545d1e6",
   "metadata": {},
   "source": [
    "# Dask scheduler"
   ]
  },
  {
   "cell_type": "code",
   "execution_count": null,
   "id": "ebc8d1c5-7ed2-45d3-8e7e-79c28250c79a",
   "metadata": {},
   "outputs": [],
   "source": [
    "from dask.distributed import Client"
   ]
  },
  {
   "cell_type": "markdown",
   "id": "afbcf18e-cfa4-4116-a62b-6c8d8377bd32",
   "metadata": {},
   "source": [
    "Now start new Dask cluster, scale the number of workers"
   ]
  },
  {
   "cell_type": "code",
   "execution_count": null,
   "id": "3e39d408-41b5-4e5d-b4f4-602008c9600e",
   "metadata": {},
   "outputs": [],
   "source": [
    "#fill this cell with \"<>\" button of Dask labextension"
   ]
  },
  {
   "cell_type": "markdown",
   "id": "38b57024-9bae-4a13-9d34-10db23e7bf2c",
   "metadata": {},
   "source": [
    "# Declare custom C++ functions "
   ]
  },
  {
   "cell_type": "code",
   "execution_count": null,
   "id": "14b30f77-f8a9-429d-9087-d6e4fa54d465",
   "metadata": {},
   "outputs": [],
   "source": [
    "text_file = open(\"Utilities.h\", \"r\")\n",
    "data = text_file.read()\n",
    "\n",
    "\n",
    "def my_initialization_function():\n",
    "    ROOT.gInterpreter.Declare('{}'.format(data))\n",
    "\n",
    "ROOT.RDF.Experimental.Distributed.initialize(my_initialization_function)"
   ]
  },
  {
   "cell_type": "markdown",
   "id": "5f24a4bc-57ec-46c2-a00a-36d47b73e455",
   "metadata": {},
   "source": [
    "# X509 proxy configuration\n",
    "The `/tmp/x509up_u` file should be generated prior running the notebook using `voms-proxy-init `"
   ]
  },
  {
   "cell_type": "code",
   "execution_count": null,
   "id": "09f97df9-36da-4eef-972c-8c6e62be5aca",
   "metadata": {},
   "outputs": [],
   "source": [
    "from distributed.diagnostics.plugin import UploadFile\n",
    "Client.register_worker_plugin(UploadFile(\"/tmp/x509up_u0\"))"
   ]
  },
  {
   "cell_type": "code",
   "execution_count": null,
   "id": "d1c0443d-2d68-4c2a-8258-5eae5768d262",
   "metadata": {},
   "outputs": [],
   "source": [
    "def set_proxy(dask_worker):\n",
    "    import os\n",
    "    import shutil\n",
    "    working_dir = dask_worker.local_directory\n",
    "    proxy_name = 'x509up_u0'\n",
    "    os.environ['X509_USER_PROXY'] = working_dir + '/' + proxy_name\n",
    "    os.environ['X509_CERT_DIR']=\"/cvmfs/grid.cern.ch/etc/grid-security/certificates/\"\n",
    "    return os.environ.get(\"X509_USER_PROXY\"), os.environ.get(\"X509_CERT_DIR\") "
   ]
  },
  {
   "cell_type": "code",
   "execution_count": null,
   "id": "4f6eaa44-877a-4093-9f6c-8c0f9102c953",
   "metadata": {},
   "outputs": [],
   "source": [
    "client.run(set_proxy)"
   ]
  },
  {
   "cell_type": "markdown",
   "id": "b9f30f7c-bdec-4c0d-83fe-37b8427a8a2b",
   "metadata": {},
   "source": [
    "# Define chain of rootfiles to analyze\n",
    "ntuples corresponding to different datasets and eras are defined in a configuration json file"
   ]
  },
  {
   "cell_type": "code",
   "execution_count": null,
   "id": "f16b05e9-788d-4e51-9fcd-dd9f261a1118",
   "metadata": {},
   "outputs": [],
   "source": [
    "configjson = \"/opt/workspace/persistent-storage/BPH_usecase/input.json\"\n",
    "dataset_to_process = \"ParkingBPH1_D\" #\"DsToNMu_NToMuPi_mN1p5_ctau1000p0mm_incl\"\n",
    "\n",
    "with open(configjson, \"r\") as f:\n",
    "    config = json.loads(f.read())\n",
    "    \n",
    "print(config)"
   ]
  },
  {
   "cell_type": "code",
   "execution_count": null,
   "id": "6fab59c4-1870-4bbc-ab6c-4763e46f7bc1",
   "metadata": {},
   "outputs": [],
   "source": []
  }
 ],
 "metadata": {
  "kernelspec": {
   "display_name": "Python 3 (ipykernel)",
   "language": "python",
   "name": "python3"
  },
  "language_info": {
   "codemirror_mode": {
    "name": "ipython",
    "version": 3
   },
   "file_extension": ".py",
   "mimetype": "text/x-python",
   "name": "python",
   "nbconvert_exporter": "python",
   "pygments_lexer": "ipython3",
   "version": "3.9.9"
  }
 },
 "nbformat": 4,
 "nbformat_minor": 5
}
